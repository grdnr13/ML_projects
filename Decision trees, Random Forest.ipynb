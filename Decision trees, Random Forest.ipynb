{
 "nbformat": 4,
 "nbformat_minor": 0,
 "metadata": {
  "colab": {
   "provenance": [],
   "collapsed_sections": [
    "C7uml-wJ8UXS"
   ]
  },
  "kernelspec": {
   "name": "python3",
   "display_name": "Python 3"
  },
  "language_info": {
   "name": "python"
  }
 },
 "cells": [
  {
   "cell_type": "markdown",
   "source": [
    "© 2022 grdnr13 <grdnr17@gmail.com>"
   ],
   "metadata": {
    "id": "C7uml-wJ8UXS",
    "pycharm": {
     "name": "#%% md\n"
    }
   }
  },
  {
   "cell_type": "markdown",
   "source": [
    "\n",
    "\n",
    "---\n",
    "\n",
    "\n",
    "## 2-1. Decision trees with Breast cancer dataset\n",
    "\n",
    "\n",
    "---\n",
    "\n"
   ],
   "metadata": {
    "id": "tU43Df1H8ZhD",
    "pycharm": {
     "name": "#%% md\n"
    }
   }
  },
  {
   "cell_type": "markdown",
   "source": [
    "Data importing"
   ],
   "metadata": {
    "id": "4gwhcxen8rre",
    "pycharm": {
     "name": "#%% md\n"
    }
   }
  },
  {
   "cell_type": "code",
   "execution_count": 154,
   "metadata": {
    "id": "nHBNAgpI7z54",
    "pycharm": {
     "name": "#%%\n"
    }
   },
   "outputs": [],
   "source": [
    "import numpy as np\n",
    "from sklearn import datasets\n",
    "from sklearn.model_selection import train_test_split\n",
    "\n",
    "data = datasets.load_breast_cancer()\n",
    "X, y = data.data, data.target\n",
    "\n",
    "X_train, X_test, y_train, y_test = train_test_split(\n",
    "    X, y, test_size=0.2, random_state=1\n",
    ")"
   ]
  },
  {
   "cell_type": "markdown",
   "source": [
    "## Goal: Change the \"DecisionTree\" class to use the gini importance (aka impurity) in the quality test for the node decision."
   ],
   "metadata": {
    "id": "6n2WfXC99bf9",
    "pycharm": {
     "name": "#%% md\n"
    }
   }
  },
  {
   "cell_type": "markdown",
   "source": [
    "  1. Update the `DecisionTree` class to use `_gini_importance` and `impurity_decrease` rather than `_entropy` and `_information_gain`.\n",
    "  "
   ],
   "metadata": {
    "id": "NtwyTRB5AqKO",
    "pycharm": {
     "name": "#%% md\n"
    }
   }
  },
  {
   "cell_type": "code",
   "source": [
    "class Node:\n",
    "    def __init__(self, feature=None, value=None, left=None, right=None, *, label=None):\n",
    "        self.feature = feature\n",
    "        self.value = value\n",
    "        self.left = left\n",
    "        self.right = right\n",
    "        self.label = label\n",
    "    \n",
    "    def is_leaf(self):\n",
    "        return self.label is not None"
   ],
   "metadata": {
    "id": "sffIgtlOApb5",
    "pycharm": {
     "name": "#%%\n"
    }
   },
   "execution_count": 156,
   "outputs": []
  },
  {
   "cell_type": "code",
   "source": [
    "class DecisionTree:\n",
    "\n",
    "    def __init__(self, max_depth=100, min_samples_split=2):\n",
    "        self.max_depth = max_depth\n",
    "        self.min_samples_split = min_samples_split\n",
    "        self.root = None\n",
    "\n",
    "    def _stop(self, depth):\n",
    "        if (depth >= self.max_depth\n",
    "            or self.n_class_labels == 1\n",
    "            or self.n_samples < self.min_samples_split):\n",
    "            return True\n",
    "        return False\n",
    "    '''   \n",
    "    def _entropy(self, y):\n",
    "        # np.bincount: Count number of occurrences of each value in array\n",
    "        weights = np.bincount(y) / len(y)\n",
    "        entropy = -np.sum([w * np.log2(w) for w in weights if w > 0])\n",
    "        return entropy\n",
    "    '''\n",
    "    def _gini_importance(self,y):\n",
    "      # np.bincount: Count number of occurrences of each value in array\n",
    "      weights = np.bincount(y) / len(y)\n",
    "      gini_importance = 1-np.sum([w*w for w in weights])\n",
    "      return gini_importance\n",
    "    \n",
    "    def _expand_tree(self, X, value):\n",
    "\n",
    "        # np.argwhere: return indices of X which are less than and equal to value\n",
    "        # np.flatten: turn multi-dimensional data into vectors\n",
    "        left_idx = np.argwhere(X <= value).flatten()\n",
    "\n",
    "        # return indices of X which are greater than \n",
    "        right_idx = np.argwhere(X > value).flatten()\n",
    "        return left_idx, right_idx\n",
    "    '''\n",
    "    # information_gain = parent_entropy - children_entropy\n",
    "    def _information_gain(self, X, y, value):\n",
    "            parent_entropy = self._entropy(y)\n",
    "\n",
    "            # expand the tree with X \n",
    "            left_idx, right_idx = self._expand_tree(X, value)\n",
    "\n",
    "            n, n_left, n_right = len(y), len(left_idx), len(right_idx)\n",
    "\n",
    "            if n_left == 0 or n_right == 0: \n",
    "                return 0\n",
    "            \n",
    "            # each node has two children (right child and left child)\n",
    "            children_entropy = (n_left / n) * self._entropy(y[left_idx]) + (n_right / n) * self._entropy(y[right_idx])\n",
    "            return parent_entropy - children_entropy\n",
    "    '''    \n",
    "    def _impurity_decrease(self, X, y, value):\n",
    "        # gini impurity: the lesser, the better\n",
    "        parent_gini_impurity = self._gini_importance(y)\n",
    "        \n",
    "        # expand the tree with X \n",
    "        left_idx, right_idx = self._expand_tree(X, value)\n",
    "        n, n_left, n_right = len(y), len(left_idx), len(right_idx)\n",
    "        \n",
    "        if n_left == 0 or n_right == 0: \n",
    "            return 0\n",
    "        # each node has two children (right child and left child)\n",
    "        children_gini_impurity = (n_left / n) * self._gini_importance(y[left_idx]) + (n_right / n) * self._gini_importance(y[right_idx])\n",
    "        return parent_gini_impurity - children_gini_impurity\n",
    "\n",
    "\n",
    "    def _best_split(self, X, y, features):\n",
    "        # create split dict in which we record score, feature, and value to keep the split yielding the maximum score \n",
    "        split = {'score':- 1, 'feat': None, 'value': None}\n",
    "\n",
    "        # for each column in 30 columns\n",
    "        for feat in features:\n",
    "            # select one feature column\n",
    "            # example: values in outlook column\n",
    "            X_feat = X[:, feat] \n",
    "\n",
    "            # np.unique: remove duplicates\n",
    "            # create values \n",
    "            values = np.unique(X_feat)\n",
    "\n",
    "            # for each value in the column\n",
    "            for value in values:\n",
    "                \n",
    "                # compute the information gain \n",
    "                score = self._impurity_decrease(X_feat, y, value)\n",
    "\n",
    "                # Update the split with the maximum score\n",
    "                if score > split['score']:\n",
    "                    split['score'] = score\n",
    "                    split['feat'] = feat\n",
    "                    split['value'] = value\n",
    "                \n",
    "        # return the best split with the maximum score (i.e., information gain)\n",
    "        return split['feat'], split['value']\n",
    "    \n",
    "    def _build_tree(self, X, y, depth=0):\n",
    "        self.n_samples, self.n_features = X.shape\n",
    "        self.n_class_labels = len(np.unique(y))\n",
    "\n",
    "        # 1. Check whether go or stop: use stopping criteria using _stop function\n",
    "        if self._stop(depth):\n",
    "            most_common_Label = np.argmax(np.bincount(y))\n",
    "            return Node(label=most_common_Label)\n",
    "        \n",
    "        # 2. find the best split: get the best feature for the current node among 30 features\n",
    "        # random_f carries shuffled feature indices\n",
    "        random_f = np.random.choice(self.n_features, self.n_features, replace=False)\n",
    "        best_feat, best_value = self._best_split(X, y, random_f)\n",
    "\n",
    "        # 3. expand the tree: create the subtrees using the best split\n",
    "        left_idx, right_idx = self._expand_tree(X[:, best_feat], best_value)\n",
    "\n",
    "        # 4. grow the left subtree and right subtree recursively\n",
    "        left_child = self._build_tree(X[left_idx, :], y[left_idx], depth + 1)\n",
    "        right_child = self._build_tree(X[right_idx, :], y[right_idx], depth + 1)\n",
    "        return Node(best_feat, best_value, left_child, right_child)\n",
    "        \n",
    "    def fit(self, X, y):\n",
    "        self.root = self._build_tree(X, y)\n",
    "   \n",
    "    \n",
    "    # For the evaluation using the testing set, we need a traverse function\n",
    "    def _traverse_tree(self, x, node):\n",
    "        if node.is_leaf():\n",
    "            return node.label\n",
    "        \n",
    "        # recursively traverse the tree (left subtree)\n",
    "        # node.feature = feature index, so compare X to current node's value\n",
    "        if x[node.feature] <= node.value:\n",
    "            return self._traverse_tree(x, node.left)\n",
    "        \n",
    "        # recursively traverse the tree (right subtree)\n",
    "        return self._traverse_tree(x, node.right)\n",
    "    \n",
    "    def predict(self, X):\n",
    "        predictions = [self._traverse_tree(x, self.root) for x in X]\n",
    "        return np.array(predictions)"
   ],
   "metadata": {
    "id": "pg3yC3VqSyDf",
    "pycharm": {
     "name": "#%%\n"
    }
   },
   "execution_count": 157,
   "outputs": []
  },
  {
   "cell_type": "markdown",
   "source": [
    "  2. Train the Decision tree model using your updated `DecisionTree` class using `X_train`"
   ],
   "metadata": {
    "id": "Bj9phs4GAxAs",
    "pycharm": {
     "name": "#%% md\n"
    }
   }
  },
  {
   "cell_type": "code",
   "source": [
    "clf = DecisionTree(max_depth=10)\n",
    "clf.fit(X_train, y_train)"
   ],
   "metadata": {
    "id": "SoEkWIT5UlTc",
    "pycharm": {
     "name": "#%%\n"
    }
   },
   "execution_count": 158,
   "outputs": []
  },
  {
   "cell_type": "markdown",
   "source": [
    "  3. Test the trained model using `X_test` and report the accuracy."
   ],
   "metadata": {
    "id": "zXGcVNbOAyql",
    "pycharm": {
     "name": "#%% md\n"
    }
   }
  },
  {
   "cell_type": "code",
   "source": [
    "def accuracy(y_true, y_pred):\n",
    "    accuracy = np.sum(y_true == y_pred) / len(y_true)\n",
    "    return accuracy"
   ],
   "metadata": {
    "id": "JfJ6b8MAApIT",
    "pycharm": {
     "name": "#%%\n"
    }
   },
   "execution_count": 159,
   "outputs": []
  },
  {
   "cell_type": "code",
   "source": [
    "y_pred = clf.predict(X_test)\n",
    "acc = accuracy(y_test, y_pred)\n",
    "\n",
    "print(\"Accuracy:\", acc)"
   ],
   "metadata": {
    "id": "OoTrh6QAApBu",
    "colab": {
     "base_uri": "https://localhost:8080/"
    },
    "outputId": "75d983e3-7182-4f3f-d2fb-53dfba237fb7",
    "pycharm": {
     "name": "#%%\n"
    }
   },
   "execution_count": 160,
   "outputs": [
    {
     "output_type": "stream",
     "name": "stdout",
     "text": [
      "Accuracy: 0.9385964912280702\n"
     ]
    }
   ]
  },
  {
   "cell_type": "markdown",
   "source": [
    "As you can see above, the accuracy is about 93.86%"
   ],
   "metadata": {
    "id": "sxzOw0doR1qU",
    "pycharm": {
     "name": "#%% md\n"
    }
   }
  },
  {
   "cell_type": "markdown",
   "source": [
    "\n",
    "\n",
    "---\n",
    "\n",
    "\n",
    "## 2-2. RandomForest with Titanic dataset\n",
    "\n",
    "\n",
    "---\n",
    "\n"
   ],
   "metadata": {
    "id": "1KYHKBiQ-icJ",
    "pycharm": {
     "name": "#%% md\n"
    }
   }
  },
  {
   "cell_type": "markdown",
   "source": [
    "load dataset"
   ],
   "metadata": {
    "id": "X1cOSCMivNVY",
    "pycharm": {
     "name": "#%% md\n"
    }
   }
  },
  {
   "cell_type": "code",
   "source": [
    "!wget --no-check-certificate 'https://docs.google.com/uc?export=download&id=1Z-IGKwjJ2z-tzJUFa9pWmG3BdMULbTqm' -O titanic.csv"
   ],
   "metadata": {
    "colab": {
     "base_uri": "https://localhost:8080/"
    },
    "id": "WDN4GJBAvOTZ",
    "outputId": "5b6b182a-5bad-4583-a8b1-750e0f9a9f2e",
    "pycharm": {
     "name": "#%%\n"
    }
   },
   "execution_count": 161,
   "outputs": [
    {
     "output_type": "stream",
     "name": "stdout",
     "text": [
      "--2022-12-02 11:47:51--  https://docs.google.com/uc?export=download&id=1Z-IGKwjJ2z-tzJUFa9pWmG3BdMULbTqm\n",
      "Resolving docs.google.com (docs.google.com)... 108.177.98.101, 108.177.98.102, 108.177.98.139, ...\n",
      "Connecting to docs.google.com (docs.google.com)|108.177.98.101|:443... connected.\n",
      "HTTP request sent, awaiting response... 303 See Other\n",
      "Location: https://doc-0s-7g-docs.googleusercontent.com/docs/securesc/ha0ro937gcuc7l7deffksulhg5h7mbp1/r5l1p7kc4q26ethrsc6p4hc12r322pn2/1669981650000/12385986347045621890/*/1Z-IGKwjJ2z-tzJUFa9pWmG3BdMULbTqm?e=download&uuid=dda66f5b-7539-4f5b-9ac6-6aabbea191e2 [following]\n",
      "Warning: wildcards not supported in HTTP.\n",
      "--2022-12-02 11:47:52--  https://doc-0s-7g-docs.googleusercontent.com/docs/securesc/ha0ro937gcuc7l7deffksulhg5h7mbp1/r5l1p7kc4q26ethrsc6p4hc12r322pn2/1669981650000/12385986347045621890/*/1Z-IGKwjJ2z-tzJUFa9pWmG3BdMULbTqm?e=download&uuid=dda66f5b-7539-4f5b-9ac6-6aabbea191e2\n",
      "Resolving doc-0s-7g-docs.googleusercontent.com (doc-0s-7g-docs.googleusercontent.com)... 172.253.117.132, 2607:f8b0:400e:c0a::84\n",
      "Connecting to doc-0s-7g-docs.googleusercontent.com (doc-0s-7g-docs.googleusercontent.com)|172.253.117.132|:443... connected.\n",
      "HTTP request sent, awaiting response... 200 OK\n",
      "Length: 60302 (59K) [text/csv]\n",
      "Saving to: ‘titanic.csv’\n",
      "\n",
      "titanic.csv         100%[===================>]  58.89K  --.-KB/s    in 0.001s  \n",
      "\n",
      "2022-12-02 11:47:52 (75.3 MB/s) - ‘titanic.csv’ saved [60302/60302]\n",
      "\n"
     ]
    }
   ]
  },
  {
   "cell_type": "markdown",
   "source": [
    "Overview the dataset\n",
    "\n",
    "*   data source: https://github.com/datasciencedojo/datasets/blob/master/titanic.csv\n",
    "*   'Survived' indicates whether or not the passenger survived"
   ],
   "metadata": {
    "id": "nGszkwHAvSNN",
    "pycharm": {
     "name": "#%% md\n"
    }
   }
  },
  {
   "cell_type": "code",
   "source": [
    "import pandas as pd\n",
    "df2 = pd.read_csv('titanic.csv')\n",
    "df2.head()\n"
   ],
   "metadata": {
    "colab": {
     "base_uri": "https://localhost:8080/",
     "height": 476
    },
    "id": "inrqP172vSyF",
    "outputId": "14d55d95-a9a0-4d71-b242-210174259916",
    "pycharm": {
     "name": "#%%\n"
    }
   },
   "execution_count": 162,
   "outputs": [
    {
     "output_type": "execute_result",
     "data": {
      "text/plain": [
       "   PassengerId  Survived  Pclass  \\\n",
       "0            1         0       3   \n",
       "1            2         1       1   \n",
       "2            3         1       3   \n",
       "3            4         1       1   \n",
       "4            5         0       3   \n",
       "\n",
       "                                                Name     Sex   Age  SibSp  \\\n",
       "0                            Braund, Mr. Owen Harris    male  22.0      1   \n",
       "1  Cumings, Mrs. John Bradley (Florence Briggs Th...  female  38.0      1   \n",
       "2                             Heikkinen, Miss. Laina  female  26.0      0   \n",
       "3       Futrelle, Mrs. Jacques Heath (Lily May Peel)  female  35.0      1   \n",
       "4                           Allen, Mr. William Henry    male  35.0      0   \n",
       "\n",
       "   Parch            Ticket     Fare Cabin Embarked  \n",
       "0      0         A/5 21171   7.2500   NaN        S  \n",
       "1      0          PC 17599  71.2833   C85        C  \n",
       "2      0  STON/O2. 3101282   7.9250   NaN        S  \n",
       "3      0            113803  53.1000  C123        S  \n",
       "4      0            373450   8.0500   NaN        S  "
      ],
      "text/html": [
       "\n",
       "  <div id=\"df-e2c8e8aa-1e45-4772-8e53-f59ef82cf1fa\">\n",
       "    <div class=\"colab-df-container\">\n",
       "      <div>\n",
       "<style scoped>\n",
       "    .dataframe tbody tr th:only-of-type {\n",
       "        vertical-align: middle;\n",
       "    }\n",
       "\n",
       "    .dataframe tbody tr th {\n",
       "        vertical-align: top;\n",
       "    }\n",
       "\n",
       "    .dataframe thead th {\n",
       "        text-align: right;\n",
       "    }\n",
       "</style>\n",
       "<table border=\"1\" class=\"dataframe\">\n",
       "  <thead>\n",
       "    <tr style=\"text-align: right;\">\n",
       "      <th></th>\n",
       "      <th>PassengerId</th>\n",
       "      <th>Survived</th>\n",
       "      <th>Pclass</th>\n",
       "      <th>Name</th>\n",
       "      <th>Sex</th>\n",
       "      <th>Age</th>\n",
       "      <th>SibSp</th>\n",
       "      <th>Parch</th>\n",
       "      <th>Ticket</th>\n",
       "      <th>Fare</th>\n",
       "      <th>Cabin</th>\n",
       "      <th>Embarked</th>\n",
       "    </tr>\n",
       "  </thead>\n",
       "  <tbody>\n",
       "    <tr>\n",
       "      <th>0</th>\n",
       "      <td>1</td>\n",
       "      <td>0</td>\n",
       "      <td>3</td>\n",
       "      <td>Braund, Mr. Owen Harris</td>\n",
       "      <td>male</td>\n",
       "      <td>22.0</td>\n",
       "      <td>1</td>\n",
       "      <td>0</td>\n",
       "      <td>A/5 21171</td>\n",
       "      <td>7.2500</td>\n",
       "      <td>NaN</td>\n",
       "      <td>S</td>\n",
       "    </tr>\n",
       "    <tr>\n",
       "      <th>1</th>\n",
       "      <td>2</td>\n",
       "      <td>1</td>\n",
       "      <td>1</td>\n",
       "      <td>Cumings, Mrs. John Bradley (Florence Briggs Th...</td>\n",
       "      <td>female</td>\n",
       "      <td>38.0</td>\n",
       "      <td>1</td>\n",
       "      <td>0</td>\n",
       "      <td>PC 17599</td>\n",
       "      <td>71.2833</td>\n",
       "      <td>C85</td>\n",
       "      <td>C</td>\n",
       "    </tr>\n",
       "    <tr>\n",
       "      <th>2</th>\n",
       "      <td>3</td>\n",
       "      <td>1</td>\n",
       "      <td>3</td>\n",
       "      <td>Heikkinen, Miss. Laina</td>\n",
       "      <td>female</td>\n",
       "      <td>26.0</td>\n",
       "      <td>0</td>\n",
       "      <td>0</td>\n",
       "      <td>STON/O2. 3101282</td>\n",
       "      <td>7.9250</td>\n",
       "      <td>NaN</td>\n",
       "      <td>S</td>\n",
       "    </tr>\n",
       "    <tr>\n",
       "      <th>3</th>\n",
       "      <td>4</td>\n",
       "      <td>1</td>\n",
       "      <td>1</td>\n",
       "      <td>Futrelle, Mrs. Jacques Heath (Lily May Peel)</td>\n",
       "      <td>female</td>\n",
       "      <td>35.0</td>\n",
       "      <td>1</td>\n",
       "      <td>0</td>\n",
       "      <td>113803</td>\n",
       "      <td>53.1000</td>\n",
       "      <td>C123</td>\n",
       "      <td>S</td>\n",
       "    </tr>\n",
       "    <tr>\n",
       "      <th>4</th>\n",
       "      <td>5</td>\n",
       "      <td>0</td>\n",
       "      <td>3</td>\n",
       "      <td>Allen, Mr. William Henry</td>\n",
       "      <td>male</td>\n",
       "      <td>35.0</td>\n",
       "      <td>0</td>\n",
       "      <td>0</td>\n",
       "      <td>373450</td>\n",
       "      <td>8.0500</td>\n",
       "      <td>NaN</td>\n",
       "      <td>S</td>\n",
       "    </tr>\n",
       "  </tbody>\n",
       "</table>\n",
       "</div>\n",
       "      <button class=\"colab-df-convert\" onclick=\"convertToInteractive('df-e2c8e8aa-1e45-4772-8e53-f59ef82cf1fa')\"\n",
       "              title=\"Convert this dataframe to an interactive table.\"\n",
       "              style=\"display:none;\">\n",
       "        \n",
       "  <svg xmlns=\"http://www.w3.org/2000/svg\" height=\"24px\"viewBox=\"0 0 24 24\"\n",
       "       width=\"24px\">\n",
       "    <path d=\"M0 0h24v24H0V0z\" fill=\"none\"/>\n",
       "    <path d=\"M18.56 5.44l.94 2.06.94-2.06 2.06-.94-2.06-.94-.94-2.06-.94 2.06-2.06.94zm-11 1L8.5 8.5l.94-2.06 2.06-.94-2.06-.94L8.5 2.5l-.94 2.06-2.06.94zm10 10l.94 2.06.94-2.06 2.06-.94-2.06-.94-.94-2.06-.94 2.06-2.06.94z\"/><path d=\"M17.41 7.96l-1.37-1.37c-.4-.4-.92-.59-1.43-.59-.52 0-1.04.2-1.43.59L10.3 9.45l-7.72 7.72c-.78.78-.78 2.05 0 2.83L4 21.41c.39.39.9.59 1.41.59.51 0 1.02-.2 1.41-.59l7.78-7.78 2.81-2.81c.8-.78.8-2.07 0-2.86zM5.41 20L4 18.59l7.72-7.72 1.47 1.35L5.41 20z\"/>\n",
       "  </svg>\n",
       "      </button>\n",
       "      \n",
       "  <style>\n",
       "    .colab-df-container {\n",
       "      display:flex;\n",
       "      flex-wrap:wrap;\n",
       "      gap: 12px;\n",
       "    }\n",
       "\n",
       "    .colab-df-convert {\n",
       "      background-color: #E8F0FE;\n",
       "      border: none;\n",
       "      border-radius: 50%;\n",
       "      cursor: pointer;\n",
       "      display: none;\n",
       "      fill: #1967D2;\n",
       "      height: 32px;\n",
       "      padding: 0 0 0 0;\n",
       "      width: 32px;\n",
       "    }\n",
       "\n",
       "    .colab-df-convert:hover {\n",
       "      background-color: #E2EBFA;\n",
       "      box-shadow: 0px 1px 2px rgba(60, 64, 67, 0.3), 0px 1px 3px 1px rgba(60, 64, 67, 0.15);\n",
       "      fill: #174EA6;\n",
       "    }\n",
       "\n",
       "    [theme=dark] .colab-df-convert {\n",
       "      background-color: #3B4455;\n",
       "      fill: #D2E3FC;\n",
       "    }\n",
       "\n",
       "    [theme=dark] .colab-df-convert:hover {\n",
       "      background-color: #434B5C;\n",
       "      box-shadow: 0px 1px 3px 1px rgba(0, 0, 0, 0.15);\n",
       "      filter: drop-shadow(0px 1px 2px rgba(0, 0, 0, 0.3));\n",
       "      fill: #FFFFFF;\n",
       "    }\n",
       "  </style>\n",
       "\n",
       "      <script>\n",
       "        const buttonEl =\n",
       "          document.querySelector('#df-e2c8e8aa-1e45-4772-8e53-f59ef82cf1fa button.colab-df-convert');\n",
       "        buttonEl.style.display =\n",
       "          google.colab.kernel.accessAllowed ? 'block' : 'none';\n",
       "\n",
       "        async function convertToInteractive(key) {\n",
       "          const element = document.querySelector('#df-e2c8e8aa-1e45-4772-8e53-f59ef82cf1fa');\n",
       "          const dataTable =\n",
       "            await google.colab.kernel.invokeFunction('convertToInteractive',\n",
       "                                                     [key], {});\n",
       "          if (!dataTable) return;\n",
       "\n",
       "          const docLinkHtml = 'Like what you see? Visit the ' +\n",
       "            '<a target=\"_blank\" href=https://colab.research.google.com/notebooks/data_table.ipynb>data table notebook</a>'\n",
       "            + ' to learn more about interactive tables.';\n",
       "          element.innerHTML = '';\n",
       "          dataTable['output_type'] = 'display_data';\n",
       "          await google.colab.output.renderOutput(dataTable, element);\n",
       "          const docLink = document.createElement('div');\n",
       "          docLink.innerHTML = docLinkHtml;\n",
       "          element.appendChild(docLink);\n",
       "        }\n",
       "      </script>\n",
       "    </div>\n",
       "  </div>\n",
       "  "
      ]
     },
     "metadata": {},
     "execution_count": 162
    }
   ]
  },
  {
   "cell_type": "code",
   "source": [
    "print(df2.shape)"
   ],
   "metadata": {
    "colab": {
     "base_uri": "https://localhost:8080/"
    },
    "id": "Fuyw8nx3vZcs",
    "outputId": "d1f6f9f5-24dd-4cce-b871-dc58279ebf6f",
    "pycharm": {
     "name": "#%%\n"
    }
   },
   "execution_count": 163,
   "outputs": [
    {
     "output_type": "stream",
     "name": "stdout",
     "text": [
      "(891, 12)\n"
     ]
    }
   ]
  },
  {
   "cell_type": "markdown",
   "source": [
    "Data preprocessing"
   ],
   "metadata": {
    "id": "H2SYshPUyMTv",
    "pycharm": {
     "name": "#%% md\n"
    }
   }
  },
  {
   "cell_type": "code",
   "source": [
    "print('\\nNull Values in data \\n{}'.format(df2.isnull().sum()))\n",
    "\n",
    "print('\\nDuplicated values in data {}'.format(df2.duplicated().sum()))"
   ],
   "metadata": {
    "colab": {
     "base_uri": "https://localhost:8080/"
    },
    "id": "qTuR98EFycia",
    "outputId": "21b0792a-7051-46da-e272-70d8b1a75e61",
    "pycharm": {
     "name": "#%%\n"
    }
   },
   "execution_count": 164,
   "outputs": [
    {
     "output_type": "stream",
     "name": "stdout",
     "text": [
      "\n",
      "Null Values in data \n",
      "PassengerId      0\n",
      "Survived         0\n",
      "Pclass           0\n",
      "Name             0\n",
      "Sex              0\n",
      "Age            177\n",
      "SibSp            0\n",
      "Parch            0\n",
      "Ticket           0\n",
      "Fare             0\n",
      "Cabin          687\n",
      "Embarked         2\n",
      "dtype: int64\n",
      "\n",
      "Duplicated values in data 0\n"
     ]
    }
   ]
  },
  {
   "cell_type": "markdown",
   "source": [
    "Preprocess Embarked column"
   ],
   "metadata": {
    "id": "waGHeeIYyy4O",
    "pycharm": {
     "name": "#%% md\n"
    }
   }
  },
  {
   "cell_type": "code",
   "source": [
    "print('Embarkation per ports \\n{}'.format(df2['Embarked'].value_counts()))\n",
    "\n",
    "# since the most common port is Southampton the chances are that the missing one is from there\n",
    "df2['Embarked'].fillna(value='S', inplace=True)\n",
    "\n",
    "print('Embarkation per ports after filling \\n{}'.format(df2['Embarked'].value_counts()))\n"
   ],
   "metadata": {
    "colab": {
     "base_uri": "https://localhost:8080/"
    },
    "id": "M8rPZj4Cy3us",
    "outputId": "58c5d1bf-dcdd-4e38-b424-519a1ed71974",
    "pycharm": {
     "name": "#%%\n"
    }
   },
   "execution_count": 165,
   "outputs": [
    {
     "output_type": "stream",
     "name": "stdout",
     "text": [
      "Embarkation per ports \n",
      "S    644\n",
      "C    168\n",
      "Q     77\n",
      "Name: Embarked, dtype: int64\n",
      "Embarkation per ports after filling \n",
      "S    646\n",
      "C    168\n",
      "Q     77\n",
      "Name: Embarked, dtype: int64\n"
     ]
    }
   ]
  },
  {
   "cell_type": "markdown",
   "source": [
    "Preprocess Age column"
   ],
   "metadata": {
    "id": "-WvmAL5zzGMJ",
    "pycharm": {
     "name": "#%% md\n"
    }
   }
  },
  {
   "cell_type": "code",
   "source": [
    "mean_age_miss = df2[df2[\"Name\"].str.contains('Miss.', na=False)]['Age'].mean().round()\n",
    "mean_age_mrs = df2[df2[\"Name\"].str.contains('Mrs.', na=False)]['Age'].mean().round()\n",
    "mean_age_mr = df2[df2[\"Name\"].str.contains('Mr.', na=False)]['Age'].mean().round()\n",
    "mean_age_master = df2[df2[\"Name\"].str.contains('Master.', na=False)]['Age'].mean().round()\n",
    "\n",
    "print('Mean age of Miss. title {}'.format(mean_age_miss))\n",
    "print('Mean age of Mrs. title {}'.format(mean_age_mrs))\n",
    "print('Mean age of Mr. title {}'.format(mean_age_mr))\n",
    "print('Mean age of Master. title {}'.format(mean_age_master))\n",
    "\n",
    "def fill_age(name_age):\n",
    "    \n",
    "    name = name_age[0]\n",
    "    age = name_age[1]\n",
    "    \n",
    "    if pd.isnull(age):\n",
    "        if 'Mr.' in name:\n",
    "            return mean_age_mr\n",
    "        if 'Mrs.' in name:\n",
    "            return mean_age_mrs\n",
    "        if 'Miss.' in name:\n",
    "            return mean_age_miss\n",
    "        if 'Master.' in name:\n",
    "            return mean_age_master\n",
    "        if 'Dr.' in name:\n",
    "            return mean_age_master\n",
    "        if 'Ms.' in name:\n",
    "            return mean_age_miss\n",
    "    else:\n",
    "        return age\n",
    "\n",
    "df2['Age'] = df2[['Name', 'Age']].apply(fill_age,axis=1)"
   ],
   "metadata": {
    "colab": {
     "base_uri": "https://localhost:8080/"
    },
    "id": "Ae_l6yZ8zOoq",
    "outputId": "0a2e3007-c904-44f7-8385-5855153722ba",
    "pycharm": {
     "name": "#%%\n"
    }
   },
   "execution_count": 166,
   "outputs": [
    {
     "output_type": "stream",
     "name": "stdout",
     "text": [
      "Mean age of Miss. title 22.0\n",
      "Mean age of Mrs. title 36.0\n",
      "Mean age of Mr. title 33.0\n",
      "Mean age of Master. title 5.0\n"
     ]
    }
   ]
  },
  {
   "cell_type": "markdown",
   "source": [
    "Preprocess Cabin column"
   ],
   "metadata": {
    "id": "sfyKNcj3z9G5",
    "pycharm": {
     "name": "#%% md\n"
    }
   }
  },
  {
   "cell_type": "code",
   "source": [
    "df2['Cabin'] = pd.Series(['X' if pd.isnull(ii) else ii[0] for ii in df2['Cabin']])"
   ],
   "metadata": {
    "id": "SNR56Zrd0V-l",
    "pycharm": {
     "name": "#%%\n"
    }
   },
   "execution_count": 167,
   "outputs": []
  },
  {
   "cell_type": "code",
   "source": [
    "print('Mean Fare of Cabin B {}'.format(df2[df2['Cabin']=='B']['Fare'].mean()))\n",
    "print('Mean Fare of Cabin C {}'.format(df2[df2['Cabin']=='C']['Fare'].mean()))\n",
    "print('Mean Fare of Cabin D {}'.format(df2[df2['Cabin']=='D']['Fare'].mean()))\n",
    "print('Mean Fare of Cabin E {}'.format(df2[df2['Cabin']=='E']['Fare'].mean()))\n",
    "\n",
    "def reasign_cabin(cabin_fare):\n",
    "    \n",
    "    cabin = cabin_fare[0]\n",
    "    fare = cabin_fare[1]\n",
    "    \n",
    "    if cabin=='X':\n",
    "        if (fare >= 113.5):\n",
    "            return 'B'\n",
    "        if ((fare < 113.5) and (fare > 100)):\n",
    "            return 'C'\n",
    "        if ((fare < 100) and (fare > 57)):\n",
    "            return 'D'\n",
    "        if ((fare < 57) and (fare > 46)):\n",
    "            return 'D'\n",
    "        else:\n",
    "            return 'X'\n",
    "    else:\n",
    "        return cabin\n",
    "      \n",
    "df2['Cabin'] = df2[['Cabin', 'Fare']].apply(reasign_cabin, axis=1)"
   ],
   "metadata": {
    "colab": {
     "base_uri": "https://localhost:8080/"
    },
    "id": "k7o117bWz-8q",
    "outputId": "fb4f95d8-e647-45e2-8347-eaa33d0f31a4",
    "pycharm": {
     "name": "#%%\n"
    }
   },
   "execution_count": 168,
   "outputs": [
    {
     "output_type": "stream",
     "name": "stdout",
     "text": [
      "Mean Fare of Cabin B 113.50576382978724\n",
      "Mean Fare of Cabin C 100.1513406779661\n",
      "Mean Fare of Cabin D 57.24457575757575\n",
      "Mean Fare of Cabin E 46.02669375\n"
     ]
    }
   ]
  },
  {
   "cell_type": "code",
   "source": [
    "# Check again if any col holds NULL\n",
    "print('\\nNull Values in data \\n{}'.format(df2.isnull().sum()))"
   ],
   "metadata": {
    "colab": {
     "base_uri": "https://localhost:8080/"
    },
    "id": "i40IFY_704XM",
    "outputId": "eb91e50f-6218-4da6-e923-fbcae88546ce",
    "pycharm": {
     "name": "#%%\n"
    }
   },
   "execution_count": 169,
   "outputs": [
    {
     "output_type": "stream",
     "name": "stdout",
     "text": [
      "\n",
      "Null Values in data \n",
      "PassengerId    0\n",
      "Survived       0\n",
      "Pclass         0\n",
      "Name           0\n",
      "Sex            0\n",
      "Age            0\n",
      "SibSp          0\n",
      "Parch          0\n",
      "Ticket         0\n",
      "Fare           0\n",
      "Cabin          0\n",
      "Embarked       0\n",
      "dtype: int64\n"
     ]
    }
   ]
  },
  {
   "cell_type": "markdown",
   "source": [
    "Lastly, change the categorical features into numerical values"
   ],
   "metadata": {
    "id": "D_fVvCaW1dhs",
    "pycharm": {
     "name": "#%% md\n"
    }
   }
  },
  {
   "cell_type": "code",
   "source": [
    "categories = {\"female\": 1, \"male\": 0}\n",
    "df2['Sex']= df2['Sex'].map(categories)\n",
    "\n",
    "categories = {\"S\": 1, \"C\": 2, \"Q\": 3}\n",
    "df2['Embarked']= df2['Embarked'].map(categories)\n",
    "\n",
    "categories = {\"X\": 1, \"C\": 2, \"E\": 3, \"G\": 4, \"D\": 5, \"A\": 6, \"B\": 7, \"F\": 8, \"T\": 9}\n",
    "df2['Cabin'] = df2['Cabin'].map(categories)"
   ],
   "metadata": {
    "id": "NbB_T5ac1hbz",
    "pycharm": {
     "name": "#%%\n"
    }
   },
   "execution_count": 170,
   "outputs": []
  },
  {
   "cell_type": "markdown",
   "source": [
    "Drop unnecessary columns"
   ],
   "metadata": {
    "id": "vKVeDRls2WZw",
    "pycharm": {
     "name": "#%% md\n"
    }
   }
  },
  {
   "cell_type": "code",
   "source": [
    "# dropping columns\n",
    "df2 = df2.drop(['Name','Ticket','PassengerId'], axis=1)"
   ],
   "metadata": {
    "id": "SCuxHHjC2kkw",
    "pycharm": {
     "name": "#%%\n"
    }
   },
   "execution_count": 171,
   "outputs": []
  },
  {
   "cell_type": "code",
   "source": [
    "df2.head()"
   ],
   "metadata": {
    "colab": {
     "base_uri": "https://localhost:8080/",
     "height": 206
    },
    "id": "DDM6xmJv2lQ5",
    "outputId": "49596d08-8d6f-431f-ad48-4a147b2a6b5f",
    "pycharm": {
     "name": "#%%\n"
    }
   },
   "execution_count": 172,
   "outputs": [
    {
     "output_type": "execute_result",
     "data": {
      "text/plain": [
       "   Survived  Pclass  Sex   Age  SibSp  Parch     Fare  Cabin  Embarked\n",
       "0         0       3    0  22.0      1      0   7.2500      1         1\n",
       "1         1       1    1  38.0      1      0  71.2833      2         2\n",
       "2         1       3    1  26.0      0      0   7.9250      1         1\n",
       "3         1       1    1  35.0      1      0  53.1000      2         1\n",
       "4         0       3    0  35.0      0      0   8.0500      1         1"
      ],
      "text/html": [
       "\n",
       "  <div id=\"df-db063e7f-c09e-4c62-8e94-7c430eb7c420\">\n",
       "    <div class=\"colab-df-container\">\n",
       "      <div>\n",
       "<style scoped>\n",
       "    .dataframe tbody tr th:only-of-type {\n",
       "        vertical-align: middle;\n",
       "    }\n",
       "\n",
       "    .dataframe tbody tr th {\n",
       "        vertical-align: top;\n",
       "    }\n",
       "\n",
       "    .dataframe thead th {\n",
       "        text-align: right;\n",
       "    }\n",
       "</style>\n",
       "<table border=\"1\" class=\"dataframe\">\n",
       "  <thead>\n",
       "    <tr style=\"text-align: right;\">\n",
       "      <th></th>\n",
       "      <th>Survived</th>\n",
       "      <th>Pclass</th>\n",
       "      <th>Sex</th>\n",
       "      <th>Age</th>\n",
       "      <th>SibSp</th>\n",
       "      <th>Parch</th>\n",
       "      <th>Fare</th>\n",
       "      <th>Cabin</th>\n",
       "      <th>Embarked</th>\n",
       "    </tr>\n",
       "  </thead>\n",
       "  <tbody>\n",
       "    <tr>\n",
       "      <th>0</th>\n",
       "      <td>0</td>\n",
       "      <td>3</td>\n",
       "      <td>0</td>\n",
       "      <td>22.0</td>\n",
       "      <td>1</td>\n",
       "      <td>0</td>\n",
       "      <td>7.2500</td>\n",
       "      <td>1</td>\n",
       "      <td>1</td>\n",
       "    </tr>\n",
       "    <tr>\n",
       "      <th>1</th>\n",
       "      <td>1</td>\n",
       "      <td>1</td>\n",
       "      <td>1</td>\n",
       "      <td>38.0</td>\n",
       "      <td>1</td>\n",
       "      <td>0</td>\n",
       "      <td>71.2833</td>\n",
       "      <td>2</td>\n",
       "      <td>2</td>\n",
       "    </tr>\n",
       "    <tr>\n",
       "      <th>2</th>\n",
       "      <td>1</td>\n",
       "      <td>3</td>\n",
       "      <td>1</td>\n",
       "      <td>26.0</td>\n",
       "      <td>0</td>\n",
       "      <td>0</td>\n",
       "      <td>7.9250</td>\n",
       "      <td>1</td>\n",
       "      <td>1</td>\n",
       "    </tr>\n",
       "    <tr>\n",
       "      <th>3</th>\n",
       "      <td>1</td>\n",
       "      <td>1</td>\n",
       "      <td>1</td>\n",
       "      <td>35.0</td>\n",
       "      <td>1</td>\n",
       "      <td>0</td>\n",
       "      <td>53.1000</td>\n",
       "      <td>2</td>\n",
       "      <td>1</td>\n",
       "    </tr>\n",
       "    <tr>\n",
       "      <th>4</th>\n",
       "      <td>0</td>\n",
       "      <td>3</td>\n",
       "      <td>0</td>\n",
       "      <td>35.0</td>\n",
       "      <td>0</td>\n",
       "      <td>0</td>\n",
       "      <td>8.0500</td>\n",
       "      <td>1</td>\n",
       "      <td>1</td>\n",
       "    </tr>\n",
       "  </tbody>\n",
       "</table>\n",
       "</div>\n",
       "      <button class=\"colab-df-convert\" onclick=\"convertToInteractive('df-db063e7f-c09e-4c62-8e94-7c430eb7c420')\"\n",
       "              title=\"Convert this dataframe to an interactive table.\"\n",
       "              style=\"display:none;\">\n",
       "        \n",
       "  <svg xmlns=\"http://www.w3.org/2000/svg\" height=\"24px\"viewBox=\"0 0 24 24\"\n",
       "       width=\"24px\">\n",
       "    <path d=\"M0 0h24v24H0V0z\" fill=\"none\"/>\n",
       "    <path d=\"M18.56 5.44l.94 2.06.94-2.06 2.06-.94-2.06-.94-.94-2.06-.94 2.06-2.06.94zm-11 1L8.5 8.5l.94-2.06 2.06-.94-2.06-.94L8.5 2.5l-.94 2.06-2.06.94zm10 10l.94 2.06.94-2.06 2.06-.94-2.06-.94-.94-2.06-.94 2.06-2.06.94z\"/><path d=\"M17.41 7.96l-1.37-1.37c-.4-.4-.92-.59-1.43-.59-.52 0-1.04.2-1.43.59L10.3 9.45l-7.72 7.72c-.78.78-.78 2.05 0 2.83L4 21.41c.39.39.9.59 1.41.59.51 0 1.02-.2 1.41-.59l7.78-7.78 2.81-2.81c.8-.78.8-2.07 0-2.86zM5.41 20L4 18.59l7.72-7.72 1.47 1.35L5.41 20z\"/>\n",
       "  </svg>\n",
       "      </button>\n",
       "      \n",
       "  <style>\n",
       "    .colab-df-container {\n",
       "      display:flex;\n",
       "      flex-wrap:wrap;\n",
       "      gap: 12px;\n",
       "    }\n",
       "\n",
       "    .colab-df-convert {\n",
       "      background-color: #E8F0FE;\n",
       "      border: none;\n",
       "      border-radius: 50%;\n",
       "      cursor: pointer;\n",
       "      display: none;\n",
       "      fill: #1967D2;\n",
       "      height: 32px;\n",
       "      padding: 0 0 0 0;\n",
       "      width: 32px;\n",
       "    }\n",
       "\n",
       "    .colab-df-convert:hover {\n",
       "      background-color: #E2EBFA;\n",
       "      box-shadow: 0px 1px 2px rgba(60, 64, 67, 0.3), 0px 1px 3px 1px rgba(60, 64, 67, 0.15);\n",
       "      fill: #174EA6;\n",
       "    }\n",
       "\n",
       "    [theme=dark] .colab-df-convert {\n",
       "      background-color: #3B4455;\n",
       "      fill: #D2E3FC;\n",
       "    }\n",
       "\n",
       "    [theme=dark] .colab-df-convert:hover {\n",
       "      background-color: #434B5C;\n",
       "      box-shadow: 0px 1px 3px 1px rgba(0, 0, 0, 0.15);\n",
       "      filter: drop-shadow(0px 1px 2px rgba(0, 0, 0, 0.3));\n",
       "      fill: #FFFFFF;\n",
       "    }\n",
       "  </style>\n",
       "\n",
       "      <script>\n",
       "        const buttonEl =\n",
       "          document.querySelector('#df-db063e7f-c09e-4c62-8e94-7c430eb7c420 button.colab-df-convert');\n",
       "        buttonEl.style.display =\n",
       "          google.colab.kernel.accessAllowed ? 'block' : 'none';\n",
       "\n",
       "        async function convertToInteractive(key) {\n",
       "          const element = document.querySelector('#df-db063e7f-c09e-4c62-8e94-7c430eb7c420');\n",
       "          const dataTable =\n",
       "            await google.colab.kernel.invokeFunction('convertToInteractive',\n",
       "                                                     [key], {});\n",
       "          if (!dataTable) return;\n",
       "\n",
       "          const docLinkHtml = 'Like what you see? Visit the ' +\n",
       "            '<a target=\"_blank\" href=https://colab.research.google.com/notebooks/data_table.ipynb>data table notebook</a>'\n",
       "            + ' to learn more about interactive tables.';\n",
       "          element.innerHTML = '';\n",
       "          dataTable['output_type'] = 'display_data';\n",
       "          await google.colab.output.renderOutput(dataTable, element);\n",
       "          const docLink = document.createElement('div');\n",
       "          docLink.innerHTML = docLinkHtml;\n",
       "          element.appendChild(docLink);\n",
       "        }\n",
       "      </script>\n",
       "    </div>\n",
       "  </div>\n",
       "  "
      ]
     },
     "metadata": {},
     "execution_count": 172
    }
   ]
  },
  {
   "cell_type": "code",
   "source": [
    "from sklearn.preprocessing import StandardScaler\n",
    "def scaler_samples(train_X,test_X):\n",
    "  scaler = StandardScaler()\n",
    "  train_X = scaler.fit_transform(train_X)\n",
    "  test_X = scaler.transform(test_X)\n",
    "\n",
    "  return train_X, test_X"
   ],
   "metadata": {
    "id": "AE2ougJF3MDV",
    "pycharm": {
     "name": "#%%\n"
    }
   },
   "execution_count": 173,
   "outputs": []
  },
  {
   "cell_type": "markdown",
   "source": [
    "## Goal: Train the RandomForest classifier with preprocessed Titanic dataset to determine whether people survive or not.\n"
   ],
   "metadata": {
    "id": "Ic82tzSD3koA",
    "pycharm": {
     "name": "#%% md\n"
    }
   }
  },
  {
   "cell_type": "code",
   "source": [
    "from sklearn import tree"
   ],
   "metadata": {
    "id": "Xf-utAA_rm7Z",
    "pycharm": {
     "name": "#%%\n"
    }
   },
   "execution_count": 174,
   "outputs": []
  },
  {
   "cell_type": "markdown",
   "source": [
    "  1. Split the dataset (train:test=80:20)."
   ],
   "metadata": {
    "id": "d4FdrNbEq18a",
    "pycharm": {
     "name": "#%% md\n"
    }
   }
  },
  {
   "cell_type": "code",
   "source": [
    "X = df2[['Pclass','Sex','Age','SibSp','Parch','Fare','Cabin','Embarked']]\n",
    "y = df2['Survived']"
   ],
   "metadata": {
    "id": "7Ik9a2YwYeMY",
    "pycharm": {
     "name": "#%%\n"
    }
   },
   "execution_count": 175,
   "outputs": []
  },
  {
   "cell_type": "code",
   "source": [
    "x_train, x_test = train_test_split(X, test_size=0.2, random_state=0)\n",
    "y_train, y_test = train_test_split(y, test_size=0.2, random_state=0)\n",
    "print(x_train.shape, x_test.shape)\n",
    "print(y_train.shape, y_test.shape)"
   ],
   "metadata": {
    "colab": {
     "base_uri": "https://localhost:8080/"
    },
    "id": "U65BldL4q1LD",
    "outputId": "fcf40fb8-d90d-4607-a9bf-0144506da78a",
    "pycharm": {
     "name": "#%%\n"
    }
   },
   "execution_count": 176,
   "outputs": [
    {
     "output_type": "stream",
     "name": "stdout",
     "text": [
      "(712, 8) (179, 8)\n",
      "(712,) (179,)\n"
     ]
    }
   ]
  },
  {
   "cell_type": "markdown",
   "source": [
    "  2. Use provided `StandardScaler` function to normalize the data"
   ],
   "metadata": {
    "id": "pfI0VeiHq5Ys",
    "pycharm": {
     "name": "#%% md\n"
    }
   }
  },
  {
   "cell_type": "code",
   "source": [
    "scaler_samples(x_train, x_test)"
   ],
   "metadata": {
    "colab": {
     "base_uri": "https://localhost:8080/"
    },
    "id": "xYi3qykaq67W",
    "outputId": "8fdc457d-6e3d-4a78-a237-3a90a2943aba",
    "pycharm": {
     "name": "#%%\n"
    }
   },
   "execution_count": 177,
   "outputs": [
    {
     "output_type": "execute_result",
     "data": {
      "text/plain": [
       "(array([[ 0.81925059,  1.37207547,  0.46281194, ..., -0.33167904,\n",
       "         -0.53044873,  0.99748327],\n",
       "        [-0.38096838, -0.72882288,  0.0895004 , ..., -0.42640542,\n",
       "         -0.53044873, -0.56341363],\n",
       "        [-0.38096838, -0.72882288,  0.0895004 , ...,  0.10261958,\n",
       "         -0.53044873,  0.99748327],\n",
       "        ...,\n",
       "        [ 0.81925059, -0.72882288,  0.23882501, ..., -0.48162887,\n",
       "         -0.53044873,  2.55838016],\n",
       "        [ 0.81925059,  1.37207547,  0.46281194, ..., -0.28868112,\n",
       "         -0.53044873, -0.56341363],\n",
       "        [-0.38096838, -0.72882288,  2.25470738, ...,  0.14245584,\n",
       "         -0.53044873, -0.56341363]]),\n",
       " array([[ 0.81925059, -0.72882288,  0.23882501, ..., -0.34739758,\n",
       "         -0.53044873,  0.99748327],\n",
       "        [ 0.81925059, -0.72882288,  0.23882501, ..., -0.48528755,\n",
       "         -0.53044873, -0.56341363],\n",
       "        [ 0.81925059, -0.72882288, -1.70239504, ..., -0.0546496 ,\n",
       "         -0.53044873,  2.55838016],\n",
       "        ...,\n",
       "        [-1.58118735,  1.37207547,  0.0895004 , ...,  1.62498811,\n",
       "          1.5138246 ,  0.99748327],\n",
       "        [ 0.81925059, -0.72882288, -0.50779808, ..., -0.4792157 ,\n",
       "         -0.53044873, -0.56341363],\n",
       "        [ 0.81925059, -0.72882288, -0.80644732, ..., -0.47530753,\n",
       "         -0.53044873, -0.56341363]]))"
      ]
     },
     "metadata": {},
     "execution_count": 177
    }
   ]
  },
  {
   "cell_type": "markdown",
   "source": [
    "  3. Train the RandomForest model using training data. Use the following parameters:\n",
    "    *   n_estimators=20, \n",
    "    *   criterion=\"entropy\""
   ],
   "metadata": {
    "id": "kEdYb0vpq7VY",
    "pycharm": {
     "name": "#%% md\n"
    }
   }
  },
  {
   "cell_type": "code",
   "source": [
    "from sklearn.ensemble import RandomForestClassifier\n",
    "\n",
    "Rforest = RandomForestClassifier(criterion='entropy', n_estimators=20)\n",
    "Rforest.fit(x_train, y_train)"
   ],
   "metadata": {
    "colab": {
     "base_uri": "https://localhost:8080/"
    },
    "id": "JX8p5zj2q8s5",
    "outputId": "b1aaab3f-ed4d-411b-af49-11f32c5bd147",
    "pycharm": {
     "name": "#%%\n"
    }
   },
   "execution_count": 178,
   "outputs": [
    {
     "output_type": "execute_result",
     "data": {
      "text/plain": [
       "RandomForestClassifier(criterion='entropy', n_estimators=20)"
      ]
     },
     "metadata": {},
     "execution_count": 178
    }
   ]
  },
  {
   "cell_type": "markdown",
   "source": [
    "  4. Test the trained model using testing data and report the accuracy and confusion matrix. (Note that to derive the confusion matrix, use scikit-learn library, `sklearn.metrics.confusion_matrix`)"
   ],
   "metadata": {
    "id": "8npyFWsCq9SA",
    "pycharm": {
     "name": "#%% md\n"
    }
   }
  },
  {
   "cell_type": "code",
   "source": [
    "y_pred = Rforest.predict(x_test)\n",
    "print('Accuracy:', accuracy(y_test, y_pred))"
   ],
   "metadata": {
    "colab": {
     "base_uri": "https://localhost:8080/"
    },
    "id": "R8cw3vO8q-tt",
    "outputId": "3e5b8498-2966-461a-93e5-975a7dd681eb",
    "pycharm": {
     "name": "#%%\n"
    }
   },
   "execution_count": 179,
   "outputs": [
    {
     "output_type": "stream",
     "name": "stdout",
     "text": [
      "Accuracy: 0.8212290502793296\n"
     ]
    }
   ]
  },
  {
   "cell_type": "code",
   "source": [
    "from sklearn.metrics import confusion_matrix\n",
    "\n",
    "confusion_matrix(y_test, y_pred)"
   ],
   "metadata": {
    "colab": {
     "base_uri": "https://localhost:8080/"
    },
    "id": "mdSGAJIhg6HX",
    "outputId": "57aff9b4-4ec4-4919-d26f-172b877bc3db",
    "pycharm": {
     "name": "#%%\n"
    }
   },
   "execution_count": 180,
   "outputs": [
    {
     "output_type": "execute_result",
     "data": {
      "text/plain": [
       "array([[100,  10],\n",
       "       [ 22,  47]])"
      ]
     },
     "metadata": {},
     "execution_count": 180
    }
   ]
  },
  {
   "cell_type": "markdown",
   "source": [
    "  5. Report the feature rankings with importance scores using the bar plot using barplot provided by `seaborn` library. "
   ],
   "metadata": {
    "id": "ynDPBYUsq_Ih",
    "pycharm": {
     "name": "#%% md\n"
    }
   }
  },
  {
   "cell_type": "code",
   "source": [
    "import seaborn as sns\n",
    "\n",
    "feature_importance = np.array(Rforest.feature_importances_)\n",
    "feature_names = np.array(x_train.columns)\n",
    "\n",
    "sns.barplot(x=feature_importance, y=feature_names)"
   ],
   "metadata": {
    "colab": {
     "base_uri": "https://localhost:8080/",
     "height": 284
    },
    "id": "6W5jeAnPrATE",
    "outputId": "14aaaf4c-bc5e-48bd-e362-cfd45bd7cf58",
    "pycharm": {
     "name": "#%%\n"
    }
   },
   "execution_count": 181,
   "outputs": [
    {
     "output_type": "execute_result",
     "data": {
      "text/plain": [
       "<matplotlib.axes._subplots.AxesSubplot at 0x7f528bc521f0>"
      ]
     },
     "metadata": {},
     "execution_count": 181
    },
    {
     "output_type": "display_data",
     "data": {
      "text/plain": [
       "<Figure size 432x288 with 1 Axes>"
      ],
      "image/png": "[encoded data removed]"
     },
     "metadata": {
      "needs_background": "light"
     }
    }
   ]
  },
  {
   "cell_type": "markdown",
   "source": [
    "  6. Use hyperparameter tuning with `GridSearchCV` to explore the grid ('n_estimators': [20, 50, 100, 200], 'criterion' :['gini', 'entropy']). Then, report the best parameters, the model accuracy, and confusion matrix. Discuss how much chosen parameters can help improve the model performance in Step 4."
   ],
   "metadata": {
    "id": "9nVQOu_0rAwI",
    "pycharm": {
     "name": "#%% md\n"
    }
   }
  },
  {
   "cell_type": "code",
   "source": [
    "from sklearn import model_selection\n",
    "from sklearn.model_selection import GridSearchCV\n",
    "from sklearn.calibration import CalibratedClassifierCV\n",
    "\n",
    "parameters = {'n_estimators': [20, 50, 100, 200], 'criterion':['gini', 'entropy']}\n",
    "grid_search = GridSearchCV(Rforest, param_grid = parameters)\n",
    "\n",
    "grid_search.fit(x_train, y_train)"
   ],
   "metadata": {
    "colab": {
     "base_uri": "https://localhost:8080/"
    },
    "id": "XuqTonNVrDHY",
    "outputId": "23d97503-4bdb-4279-f08b-776ee2752141",
    "pycharm": {
     "name": "#%%\n"
    }
   },
   "execution_count": 182,
   "outputs": [
    {
     "output_type": "execute_result",
     "data": {
      "text/plain": [
       "GridSearchCV(estimator=RandomForestClassifier(criterion='entropy',\n",
       "                                              n_estimators=20),\n",
       "             param_grid={'criterion': ['gini', 'entropy'],\n",
       "                         'n_estimators': [20, 50, 100, 200]})"
      ]
     },
     "metadata": {},
     "execution_count": 182
    }
   ]
  },
  {
   "cell_type": "code",
   "source": [
    "best_params = grid_search.best_estimator_.get_params()\n",
    "\n",
    "# best parameters\n",
    "print('Best parameters: ', grid_search.best_params_)"
   ],
   "metadata": {
    "colab": {
     "base_uri": "https://localhost:8080/"
    },
    "id": "kqU2kmI2Tt33",
    "outputId": "9ad03166-f74e-49de-d414-5248f9a627e8",
    "pycharm": {
     "name": "#%%\n"
    }
   },
   "execution_count": 183,
   "outputs": [
    {
     "output_type": "stream",
     "name": "stdout",
     "text": [
      "Best parameters:  {'criterion': 'gini', 'n_estimators': 100}\n"
     ]
    }
   ]
  },
  {
   "cell_type": "code",
   "source": [
    "Rforest2 = RandomForestClassifier(criterion='gini', n_estimators=100)\n",
    "Rforest2.fit(x_train, y_train)\n",
    "pred2 = Rforest2.predict(x_test)"
   ],
   "metadata": {
    "id": "sT2xC9lqdMH7",
    "pycharm": {
     "name": "#%%\n"
    }
   },
   "execution_count": 189,
   "outputs": []
  },
  {
   "cell_type": "code",
   "source": [
    "# model accuracy\n",
    "acc2 = accuracy(y_test, pred2)\n",
    "print('Best accuracy: ', acc2)"
   ],
   "metadata": {
    "colab": {
     "base_uri": "https://localhost:8080/"
    },
    "id": "VY2-TEAiUhUF",
    "outputId": "16bdb0e8-31cb-4725-e51a-450bd4d25168",
    "pycharm": {
     "name": "#%%\n"
    }
   },
   "execution_count": 190,
   "outputs": [
    {
     "output_type": "stream",
     "name": "stdout",
     "text": [
      "Best accuracy:  0.8268156424581006\n"
     ]
    }
   ]
  },
  {
   "cell_type": "code",
   "source": [
    "# confusion matrix\n",
    "confusion_matrix(y_test, y_pred)"
   ],
   "metadata": {
    "colab": {
     "base_uri": "https://localhost:8080/"
    },
    "id": "-be7umnYR39H",
    "outputId": "d59c80fe-203f-4af8-8e26-ad46e163bfe9",
    "pycharm": {
     "name": "#%%\n"
    }
   },
   "execution_count": 186,
   "outputs": [
    {
     "output_type": "execute_result",
     "data": {
      "text/plain": [
       "array([[100,  10],\n",
       "       [ 22,  47]])"
      ]
     },
     "metadata": {},
     "execution_count": 186
    }
   ]
  },
  {
   "cell_type": "markdown",
   "source": [
    "### Discuss how much chosen parameters can help improve the model performance in Step 4\n",
    "\n",
    "\n",
    "A: The accurary went from `0.8212290502793296` in step4 to `0.8268156424581006` in step6. We can see that the accuray increased for about 0.5%\n"
   ],
   "metadata": {
    "id": "C0er1weAUoNJ",
    "pycharm": {
     "name": "#%% md\n"
    }
   }
  }
 ]
}