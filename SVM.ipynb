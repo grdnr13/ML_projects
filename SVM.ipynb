{
 "nbformat": 4,
 "nbformat_minor": 0,
 "metadata": {
  "colab": {
   "provenance": [],
   "collapsed_sections": []
  },
  "kernelspec": {
   "name": "python3",
   "display_name": "Python 3"
  },
  "language_info": {
   "name": "python"
  }
 },
 "cells": [
  {
   "cell_type": "markdown",
   "source": [
    "© 2022 grdnr13 <grdnr17@gmail.com>"
   ],
   "metadata": {
    "id": "IRkbqoriU22k",
    "pycharm": {
     "name": "#%% md\n"
    }
   }
  },
  {
   "cell_type": "markdown",
   "source": [
    "\n",
    "\n",
    "---\n",
    "\n",
    "\n",
    "## 1-4. Support vector machines with Iris dataset\n",
    "\n",
    "\n",
    "---\n",
    "\n"
   ],
   "metadata": {
    "id": "DouDIPWNU67k",
    "pycharm": {
     "name": "#%% md\n"
    }
   }
  },
  {
   "cell_type": "markdown",
   "source": [
    "Download the dataset\n",
    "\n",
    "\n",
    "*   data source: scikit-learn library\n",
    "\n"
   ],
   "metadata": {
    "id": "fuMOGBXgVExZ",
    "pycharm": {
     "name": "#%% md\n"
    }
   }
  },
  {
   "cell_type": "code",
   "execution_count": 100,
   "metadata": {
    "id": "sz3ul1oQS_hz",
    "pycharm": {
     "name": "#%%\n"
    }
   },
   "outputs": [],
   "source": [
    "from sklearn.datasets import load_iris\n",
    " \n",
    "iris_dataset = load_iris()"
   ]
  },
  {
   "cell_type": "markdown",
   "source": [
    "## Goal: Train Support vector machines to predict y (species of flower) based on provided features (SepalLength, SepalWidth, PetalLength, PetalWidth)\n"
   ],
   "metadata": {
    "id": "YejKxrzpVZUO",
    "pycharm": {
     "name": "#%% md\n"
    }
   }
  },
  {
   "cell_type": "markdown",
   "source": [
    "### Split the dataset into training and testing sets (training:testing=75:25)"
   ],
   "metadata": {
    "id": "XV7HsxJk2XH5",
    "pycharm": {
     "name": "#%% md\n"
    }
   }
  },
  {
   "cell_type": "code",
   "source": [
    "#print(iris_dataset)"
   ],
   "metadata": {
    "id": "FRtaH91aHFYd",
    "pycharm": {
     "name": "#%%\n"
    }
   },
   "execution_count": 101,
   "outputs": []
  },
  {
   "cell_type": "code",
   "source": [
    "from sklearn.model_selection import train_test_split"
   ],
   "metadata": {
    "id": "rTAk372lIaz_",
    "pycharm": {
     "name": "#%%\n"
    }
   },
   "execution_count": 102,
   "outputs": []
  },
  {
   "cell_type": "code",
   "source": [
    "X = iris_dataset['data']\n",
    "y = iris_dataset['target']\n",
    "print(X.shape)\n",
    "print(y.shape)"
   ],
   "metadata": {
    "colab": {
     "base_uri": "https://localhost:8080/"
    },
    "id": "iybzX5kMJBnn",
    "outputId": "7fa91210-a17a-4f4e-d375-964ca229d991",
    "pycharm": {
     "name": "#%%\n"
    }
   },
   "execution_count": 103,
   "outputs": [
    {
     "output_type": "stream",
     "name": "stdout",
     "text": [
      "(150, 4)\n",
      "(150,)\n"
     ]
    }
   ]
  },
  {
   "cell_type": "code",
   "source": [
    "#split\n",
    "X_train, X_test = train_test_split(X, test_size=0.25, random_state=0)\n",
    "y_train, y_test = train_test_split(y, test_size=0.25, random_state=0)\n",
    "print(X_train.shape, X_test.shape)\n",
    "print(y_train.shape, y_test.shape)\n"
   ],
   "metadata": {
    "colab": {
     "base_uri": "https://localhost:8080/"
    },
    "id": "P7BDYjHs2U4T",
    "outputId": "0feabe97-54e1-4884-861b-2db91e8ec73e",
    "pycharm": {
     "name": "#%%\n"
    }
   },
   "execution_count": 104,
   "outputs": [
    {
     "output_type": "stream",
     "name": "stdout",
     "text": [
      "(112, 4) (38, 4)\n",
      "(112,) (38,)\n"
     ]
    }
   ]
  },
  {
   "cell_type": "markdown",
   "source": [
    "### Use \"StandardScaler\" function (provided in HA1_part1) to map all points to have mean=0 and std=1"
   ],
   "metadata": {
    "id": "jCKAJ2V-2aR8",
    "pycharm": {
     "name": "#%% md\n"
    }
   }
  },
  {
   "cell_type": "code",
   "source": [
    "from sklearn.preprocessing import StandardScaler\n",
    "def scaler_samples(train_X,test_X):\n",
    "  scaler = StandardScaler()\n",
    "  train_X = scaler.fit_transform(train_X)\n",
    "  test_X = scaler.transform(test_X)\n",
    "\n",
    "  return train_X, test_X"
   ],
   "metadata": {
    "id": "3rtWSR6I2U0p",
    "pycharm": {
     "name": "#%%\n"
    }
   },
   "execution_count": 105,
   "outputs": []
  },
  {
   "cell_type": "code",
   "source": [
    "scaler_samples(X_train, X_test)"
   ],
   "metadata": {
    "colab": {
     "base_uri": "https://localhost:8080/"
    },
    "id": "b3_8U_cl2UyD",
    "outputId": "95491a06-069e-4169-bea5-25e1dd014ce4",
    "pycharm": {
     "name": "#%%\n"
    }
   },
   "execution_count": 106,
   "outputs": [
    {
     "output_type": "execute_result",
     "data": {
      "text/plain": [
       "(array([[ 1.54399532e-02, -1.19254753e-01,  2.25126850e-01,\n",
       "          3.55797625e-01],\n",
       "        [-9.98450310e-02, -1.04039491e+00,  1.13559562e-01,\n",
       "         -2.98410911e-02],\n",
       "        [ 1.05300481e+00, -1.19254753e-01,  9.50314227e-01,\n",
       "          1.12707506e+00],\n",
       "        [-1.36797986e+00,  3.41315328e-01, -1.39259884e+00,\n",
       "         -1.31530348e+00],\n",
       "        [ 1.16828980e+00,  1.11030287e-01,  7.27179649e-01,\n",
       "          1.38416753e+00],\n",
       "        [-1.02212490e+00,  1.03217045e+00, -1.22524790e+00,\n",
       "         -8.01118523e-01],\n",
       "        [-5.60984968e-01,  1.49274053e+00, -1.28103155e+00,\n",
       "         -1.31530348e+00],\n",
       "        [-1.02212490e+00, -2.42210516e+00, -1.65358660e-01,\n",
       "         -2.86933568e-01],\n",
       "        [ 7.07149859e-01, -1.19254753e-01,  9.50314227e-01,\n",
       "          7.41436341e-01],\n",
       "        [ 9.37719827e-01,  5.71600368e-01,  1.06188152e+00,\n",
       "          1.64126001e+00],\n",
       "        [ 1.30724937e-01, -1.96153508e+00,  6.71396005e-01,\n",
       "          3.55797625e-01],\n",
       "        [ 9.37719827e-01, -1.27067995e+00,  1.11766516e+00,\n",
       "          7.41436341e-01],\n",
       "        [-3.30414999e-01, -1.27067995e+00,  5.77759173e-02,\n",
       "         -1.58387330e-01],\n",
       "        [ 2.09056967e+00, -1.19254753e-01,  1.28501609e+00,\n",
       "          1.38416753e+00],\n",
       "        [ 4.76579890e-01,  5.71600368e-01,  5.04045072e-01,\n",
       "          4.84343863e-01],\n",
       "        [-4.45699984e-01, -1.50096499e+00,  1.99227301e-03,\n",
       "         -1.58387330e-01],\n",
       "        [ 4.76579890e-01, -8.10109874e-01,  6.15612361e-01,\n",
       "          7.41436341e-01],\n",
       "        [ 4.76579890e-01, -5.79824834e-01,  7.27179649e-01,\n",
       "          3.55797625e-01],\n",
       "        [-1.13740989e+00, -1.27067995e+00,  3.92477783e-01,\n",
       "          6.12890102e-01],\n",
       "        [ 4.76579890e-01, -1.27067995e+00,  6.71396005e-01,\n",
       "          8.69982579e-01],\n",
       "        [ 1.28357478e+00,  3.41315328e-01,  5.04045072e-01,\n",
       "          2.27251386e-01],\n",
       "        [ 7.07149859e-01, -1.19254753e-01,  7.82963294e-01,\n",
       "          9.98528818e-01],\n",
       "        [ 1.30724937e-01,  8.01885408e-01,  3.92477783e-01,\n",
       "          4.84343863e-01],\n",
       "        [-1.25269487e+00,  1.11030287e-01, -1.22524790e+00,\n",
       "         -1.31530348e+00],\n",
       "        [-9.98450310e-02, -8.10109874e-01,  7.27179649e-01,\n",
       "          8.69982579e-01],\n",
       "        [-3.30414999e-01, -8.10109874e-01,  2.25126850e-01,\n",
       "          9.87051475e-02],\n",
       "        [-3.30414999e-01, -3.49539793e-01, -1.09575016e-01,\n",
       "          9.87051475e-02],\n",
       "        [-4.45699984e-01, -1.27067995e+00,  1.13559562e-01,\n",
       "          9.87051475e-02],\n",
       "        [ 2.46009922e-01, -1.19254753e-01,  4.48261428e-01,\n",
       "          2.27251386e-01],\n",
       "        [ 1.51414475e+00,  3.41315328e-01,  1.22923245e+00,\n",
       "          7.41436341e-01],\n",
       "        [-6.76269952e-01,  1.49274053e+00, -1.28103155e+00,\n",
       "         -1.31530348e+00],\n",
       "        [-1.82911979e+00, -1.19254753e-01, -1.50416612e+00,\n",
       "         -1.44384972e+00],\n",
       "        [ 5.91864874e-01, -8.10109874e-01,  8.38746938e-01,\n",
       "          8.69982579e-01],\n",
       "        [-2.15130015e-01, -1.19254753e-01,  2.25126850e-01,\n",
       "         -2.98410911e-02],\n",
       "        [-5.60984968e-01,  8.01885408e-01, -1.16946426e+00,\n",
       "         -1.31530348e+00],\n",
       "        [-2.15130015e-01,  3.10473581e+00, -1.28103155e+00,\n",
       "         -1.05821100e+00],\n",
       "        [ 1.16828980e+00,  1.11030287e-01,  6.15612361e-01,\n",
       "          3.55797625e-01],\n",
       "        [-1.48326484e+00,  1.11030287e-01, -1.28103155e+00,\n",
       "         -1.31530348e+00],\n",
       "        [ 1.54399532e-02, -1.19254753e-01,  7.27179649e-01,\n",
       "          7.41436341e-01],\n",
       "        [-9.06839920e-01, -1.27067995e+00, -4.44276882e-01,\n",
       "         -1.58387330e-01],\n",
       "        [-1.48326484e+00,  8.01885408e-01, -1.33681519e+00,\n",
       "         -1.18675724e+00],\n",
       "        [ 3.61294906e-01, -1.96153508e+00,  3.92477783e-01,\n",
       "          3.55797625e-01],\n",
       "        [ 1.51414475e+00,  1.26245549e+00,  1.28501609e+00,\n",
       "          1.64126001e+00],\n",
       "        [-2.15130015e-01, -3.49539793e-01,  2.25126850e-01,\n",
       "          9.87051475e-02],\n",
       "        [-1.25269487e+00, -1.19254753e-01, -1.33681519e+00,\n",
       "         -1.44384972e+00],\n",
       "        [ 1.39885976e+00, -1.19254753e-01,  1.17344880e+00,\n",
       "          1.12707506e+00],\n",
       "        [ 1.16828980e+00,  3.41315328e-01,  1.06188152e+00,\n",
       "          1.38416753e+00],\n",
       "        [ 7.07149859e-01, -1.19254753e-01,  1.11766516e+00,\n",
       "          1.25562129e+00],\n",
       "        [ 5.91864874e-01, -5.79824834e-01,  1.00609787e+00,\n",
       "          1.12707506e+00],\n",
       "        [-9.06839920e-01,  1.72302557e+00, -1.22524790e+00,\n",
       "         -1.31530348e+00],\n",
       "        [-1.25269487e+00,  8.01885408e-01, -1.22524790e+00,\n",
       "         -1.31530348e+00],\n",
       "        [ 7.07149859e-01,  3.41315328e-01,  7.27179649e-01,\n",
       "          9.98528818e-01],\n",
       "        [ 9.37719827e-01,  5.71600368e-01,  1.06188152e+00,\n",
       "          1.12707506e+00],\n",
       "        [-1.59854983e+00, -1.73125004e+00, -1.39259884e+00,\n",
       "         -1.18675724e+00],\n",
       "        [ 3.61294906e-01,  8.01885408e-01,  8.94530582e-01,\n",
       "          1.38416753e+00],\n",
       "        [-1.13740989e+00, -1.19254753e-01, -1.33681519e+00,\n",
       "         -1.31530348e+00],\n",
       "        [-2.15130015e-01, -1.27067995e+00,  6.71396005e-01,\n",
       "          9.98528818e-01],\n",
       "        [ 1.16828980e+00,  1.11030287e-01,  8.94530582e-01,\n",
       "          1.12707506e+00],\n",
       "        [-1.71383481e+00,  3.41315328e-01, -1.39259884e+00,\n",
       "         -1.31530348e+00],\n",
       "        [-1.02212490e+00,  1.26245549e+00, -1.33681519e+00,\n",
       "         -1.31530348e+00],\n",
       "        [ 1.51414475e+00, -1.19254753e-01,  1.11766516e+00,\n",
       "          4.84343863e-01],\n",
       "        [-9.06839920e-01,  1.03217045e+00, -1.33681519e+00,\n",
       "         -1.18675724e+00],\n",
       "        [-1.71383481e+00, -1.19254753e-01, -1.39259884e+00,\n",
       "         -1.31530348e+00],\n",
       "        [-5.60984968e-01,  1.95331061e+00, -1.16946426e+00,\n",
       "         -1.05821100e+00],\n",
       "        [-4.45699984e-01, -1.73125004e+00,  1.13559562e-01,\n",
       "          9.87051475e-02],\n",
       "        [ 1.05300481e+00,  3.41315328e-01,  1.17344880e+00,\n",
       "          1.38416753e+00],\n",
       "        [ 1.97528468e+00, -1.19254753e-01,  1.56393431e+00,\n",
       "          1.12707506e+00],\n",
       "        [-9.06839920e-01,  1.03217045e+00, -1.33681519e+00,\n",
       "         -1.31530348e+00],\n",
       "        [-1.13740989e+00,  1.11030287e-01, -1.28103155e+00,\n",
       "         -1.31530348e+00],\n",
       "        [-7.91554936e-01,  8.01885408e-01, -1.33681519e+00,\n",
       "         -1.31530348e+00],\n",
       "        [-2.15130015e-01, -5.79824834e-01,  3.92477783e-01,\n",
       "          9.87051475e-02],\n",
       "        [ 8.22434843e-01, -1.19254753e-01,  3.36694139e-01,\n",
       "          2.27251386e-01],\n",
       "        [-1.02212490e+00,  3.41315328e-01, -1.44838248e+00,\n",
       "         -1.31530348e+00],\n",
       "        [-9.06839920e-01,  5.71600368e-01, -1.16946426e+00,\n",
       "         -9.29664761e-01],\n",
       "        [ 5.91864874e-01, -3.49539793e-01,  2.80910495e-01,\n",
       "          9.87051475e-02],\n",
       "        [-5.60984968e-01,  8.01885408e-01, -1.28103155e+00,\n",
       "         -1.05821100e+00],\n",
       "        [ 2.09056967e+00, -1.04039491e+00,  1.73128525e+00,\n",
       "          1.38416753e+00],\n",
       "        [-1.13740989e+00, -1.50096499e+00, -2.76925949e-01,\n",
       "         -2.86933568e-01],\n",
       "        [ 2.32113964e+00,  1.72302557e+00,  1.45236703e+00,\n",
       "          9.98528818e-01],\n",
       "        [ 9.37719827e-01,  1.11030287e-01,  3.36694139e-01,\n",
       "          2.27251386e-01],\n",
       "        [-7.91554936e-01,  2.41388069e+00, -1.28103155e+00,\n",
       "         -1.44384972e+00],\n",
       "        [ 1.30724937e-01, -1.19254753e-01,  5.59828716e-01,\n",
       "          7.41436341e-01],\n",
       "        [-9.98450310e-02,  2.18359565e+00, -1.44838248e+00,\n",
       "         -1.31530348e+00],\n",
       "        [ 2.09056967e+00, -5.79824834e-01,  1.61971796e+00,\n",
       "          9.98528818e-01],\n",
       "        [-9.06839920e-01,  1.72302557e+00, -1.28103155e+00,\n",
       "         -1.18675724e+00],\n",
       "        [-1.36797986e+00,  3.41315328e-01, -1.22524790e+00,\n",
       "         -1.31530348e+00],\n",
       "        [ 1.74471472e+00, -5.79824834e-01,  1.28501609e+00,\n",
       "          8.69982579e-01],\n",
       "        [-1.02212490e+00,  5.71600368e-01, -1.33681519e+00,\n",
       "         -1.31530348e+00],\n",
       "        [ 4.76579890e-01,  8.01885408e-01,  1.00609787e+00,\n",
       "          1.51271377e+00],\n",
       "        [-2.15130015e-01, -5.79824834e-01,  1.69343206e-01,\n",
       "          9.87051475e-02],\n",
       "        [-9.98450310e-02, -8.10109874e-01,  5.77759173e-02,\n",
       "         -2.98410911e-02],\n",
       "        [-2.15130015e-01, -1.04039491e+00, -1.65358660e-01,\n",
       "         -2.86933568e-01],\n",
       "        [ 5.91864874e-01,  3.41315328e-01,  8.38746938e-01,\n",
       "          1.38416753e+00],\n",
       "        [ 9.37719827e-01, -1.19254753e-01,  7.82963294e-01,\n",
       "          1.38416753e+00],\n",
       "        [ 4.76579890e-01, -1.27067995e+00,  6.15612361e-01,\n",
       "          3.55797625e-01],\n",
       "        [ 9.37719827e-01, -1.19254753e-01,  6.71396005e-01,\n",
       "          6.12890102e-01],\n",
       "        [-1.02212490e+00, -1.19254753e-01, -1.22524790e+00,\n",
       "         -1.31530348e+00],\n",
       "        [-4.45699984e-01, -1.50096499e+00, -5.37913713e-02,\n",
       "         -2.86933568e-01],\n",
       "        [ 9.37719827e-01,  1.11030287e-01,  1.00609787e+00,\n",
       "          1.51271377e+00],\n",
       "        [-9.98450310e-02, -8.10109874e-01,  7.27179649e-01,\n",
       "          8.69982579e-01],\n",
       "        [-9.06839920e-01,  8.01885408e-01, -1.28103155e+00,\n",
       "         -1.31530348e+00],\n",
       "        [ 8.22434843e-01, -3.49539793e-01,  4.48261428e-01,\n",
       "          9.87051475e-02],\n",
       "        [-3.30414999e-01, -1.19254753e-01,  1.69343206e-01,\n",
       "          9.87051475e-02],\n",
       "        [ 1.54399532e-02,  3.41315328e-01,  5.59828716e-01,\n",
       "          7.41436341e-01],\n",
       "        [ 4.76579890e-01, -1.73125004e+00,  3.36694139e-01,\n",
       "          9.87051475e-02],\n",
       "        [-4.45699984e-01,  1.03217045e+00, -1.39259884e+00,\n",
       "         -1.31530348e+00],\n",
       "        [-9.06839920e-01,  1.49274053e+00, -1.28103155e+00,\n",
       "         -1.05821100e+00],\n",
       "        [-1.13740989e+00,  1.11030287e-01, -1.28103155e+00,\n",
       "         -1.44384972e+00],\n",
       "        [ 4.76579890e-01, -3.49539793e-01,  1.00609787e+00,\n",
       "          7.41436341e-01],\n",
       "        [-9.98450310e-02, -8.10109874e-01,  1.69343206e-01,\n",
       "         -2.86933568e-01],\n",
       "        [ 2.09056967e+00,  1.72302557e+00,  1.61971796e+00,\n",
       "          1.25562129e+00],\n",
       "        [-1.48326484e+00,  3.41315328e-01, -1.33681519e+00,\n",
       "         -1.31530348e+00]]),\n",
       " array([[-0.09984503, -0.57982483,  0.72717965,  1.51271377],\n",
       "        [ 0.13072494, -1.96153508,  0.11355956, -0.28693357],\n",
       "        [-0.44569998,  2.64416573, -1.33681519, -1.31530348],\n",
       "        [ 1.62942973, -0.34953979,  1.39658338,  0.74143634],\n",
       "        [-1.0221249 ,  0.80188541, -1.28103155, -1.31530348],\n",
       "        [ 0.47657989,  0.57160037,  1.22923245,  1.64126001],\n",
       "        [-1.0221249 ,  1.03217045, -1.39259884, -1.18675724],\n",
       "        [ 0.93771983,  0.11103029,  0.50404507,  0.35579762],\n",
       "        [ 1.05300481, -0.57982483,  0.55982872,  0.22725139],\n",
       "        [ 0.24600992, -0.57982483,  0.11355956,  0.09870515],\n",
       "        [ 0.24600992, -1.04039491,  1.00609787,  0.22725139],\n",
       "        [ 0.59186487,  0.34131533,  0.39247778,  0.35579762],\n",
       "        [ 0.24600992, -0.57982483,  0.50404507, -0.02984109],\n",
       "        [ 0.70714986, -0.57982483,  0.44826143,  0.35579762],\n",
       "        [ 0.24600992, -0.34953979,  0.50404507,  0.22725139],\n",
       "        [-1.13740989,  1.26245549, -1.33681519, -1.44384972],\n",
       "        [ 0.13072494, -0.34953979,  0.39247778,  0.35579762],\n",
       "        [-0.44569998, -1.04039491,  0.33669414, -0.02984109],\n",
       "        [-1.25269487, -0.11925475, -1.33681519, -1.18675724],\n",
       "        [-0.56098497,  1.95331061, -1.39259884, -1.058211  ],\n",
       "        [-0.330415  , -0.57982483,  0.61561236,  0.99852882],\n",
       "        [-0.330415  , -0.11925475,  0.39247778,  0.35579762],\n",
       "        [-1.25269487,  0.80188541, -1.05789697, -1.31530348],\n",
       "        [-1.71383481, -0.34953979, -1.33681519, -1.31530348],\n",
       "        [ 0.36129491, -0.57982483,  0.55982872,  0.74143634],\n",
       "        [-1.48326484,  1.26245549, -1.55994977, -1.31530348],\n",
       "        [-0.90683992,  1.72302557, -1.05789697, -1.058211  ],\n",
       "        [ 0.36129491, -0.34953979,  0.28091049,  0.09870515],\n",
       "        [-1.0221249 , -1.73125004, -0.27692595, -0.28693357],\n",
       "        [-1.0221249 ,  0.80188541, -1.2252479 , -1.058211  ],\n",
       "        [ 0.59186487,  0.11103029,  0.95031423,  0.74143634],\n",
       "        [-0.56098497, -0.11925475,  0.39247778,  0.35579762],\n",
       "        [-0.79155494,  1.03217045, -1.28103155, -1.31530348],\n",
       "        [ 0.24600992, -0.11925475,  0.61561236,  0.74143634],\n",
       "        [ 0.59186487, -0.57982483,  1.00609787,  1.25562129],\n",
       "        [-0.79155494, -0.81010987,  0.05777592,  0.22725139],\n",
       "        [-0.21513002,  1.72302557, -1.16946426, -1.18675724],\n",
       "        [ 0.13072494, -0.81010987,  0.72717965,  0.48434386]]))"
      ]
     },
     "metadata": {},
     "execution_count": 106
    }
   ]
  },
  {
   "cell_type": "markdown",
   "source": [
    "### First, train and test SVM using linear kernel\n",
    "- Report the accuracy\n",
    "- After that, by using 5-fold cross validation, again report accuracies from each fold and the mean accuracy after taking the mean on five accuracies."
   ],
   "metadata": {
    "id": "qwPZr7op2dPs",
    "pycharm": {
     "name": "#%% md\n"
    }
   }
  },
  {
   "cell_type": "code",
   "source": [
    "from sklearn.svm import SVC\n",
    "model_linear=SVC(kernel=\"linear\")\n",
    "\n",
    "#train\n",
    "model_linear.fit(X_train, y_train)\n"
   ],
   "metadata": {
    "colab": {
     "base_uri": "https://localhost:8080/"
    },
    "id": "xemNaI7-2Uuz",
    "outputId": "576e9ced-59cc-4357-dc2f-3c2672854cc6",
    "pycharm": {
     "name": "#%%\n"
    }
   },
   "execution_count": 107,
   "outputs": [
    {
     "output_type": "execute_result",
     "data": {
      "text/plain": [
       "SVC(kernel='linear')"
      ]
     },
     "metadata": {},
     "execution_count": 107
    }
   ]
  },
  {
   "cell_type": "code",
   "source": [
    "from sklearn.metrics import accuracy_score\n",
    "#accuracy\n",
    "predictions_linear = model_linear.predict(X_test)\n",
    "print(accuracy_score(y_test, predictions_linear))\n"
   ],
   "metadata": {
    "colab": {
     "base_uri": "https://localhost:8080/"
    },
    "id": "ec8N5uDcW5sC",
    "outputId": "da7ea1c3-c8ed-4ae4-c5a5-d8d711fc5c88",
    "pycharm": {
     "name": "#%%\n"
    }
   },
   "execution_count": 108,
   "outputs": [
    {
     "output_type": "stream",
     "name": "stdout",
     "text": [
      "0.9736842105263158\n"
     ]
    }
   ]
  },
  {
   "cell_type": "code",
   "source": [
    "# print(model_linear.support_vectors_)"
   ],
   "metadata": {
    "id": "XjI4yRqmd4HC",
    "pycharm": {
     "name": "#%%\n"
    }
   },
   "execution_count": 109,
   "outputs": []
  },
  {
   "cell_type": "code",
   "source": [
    "# by using 5-fold cross validation, again report accuracies from each fold \n",
    "# and the mean accuracy after taking the mean on five accuracies.\n",
    "from sklearn.model_selection import cross_val_score\n",
    "\n",
    "scores_linear = cross_val_score(model_linear, X_test, y_test, cv=5)\n",
    "\n",
    "print('5-fold cross validation score\\n{}'.format(scores_linear))\n",
    "print('mean of cross validation score\\n{:.3f}'.format(scores_linear.mean()))\n"
   ],
   "metadata": {
    "colab": {
     "base_uri": "https://localhost:8080/"
    },
    "id": "b9DzHouJ2UsY",
    "outputId": "0c223528-33c1-481e-b580-c20342610b5b",
    "pycharm": {
     "name": "#%%\n"
    }
   },
   "execution_count": 110,
   "outputs": [
    {
     "output_type": "stream",
     "name": "stdout",
     "text": [
      "5-fold cross validation score\n",
      "[1.         1.         0.875      0.85714286 0.85714286]\n",
      "mean of cross validation score\n",
      "0.918\n"
     ]
    }
   ]
  },
  {
   "cell_type": "markdown",
   "source": [
    "### Second, train and test SVM using RBF kernel\n",
    "use C=1, gamma=0.01\n",
    "- Report the accuracy\n",
    "- After that, by using 5-fold cross validation, again report accuracies from each fold and the mean accuracy after taking the mean on five accuracies."
   ],
   "metadata": {
    "id": "N0npNbRl2kG5",
    "pycharm": {
     "name": "#%% md\n"
    }
   }
  },
  {
   "cell_type": "code",
   "source": [
    "model_rbf=SVC(kernel=\"rbf\", gamma=0.01, C=1)\n",
    "\n",
    "#train\n",
    "model_rbf.fit(X_train, y_train)\n"
   ],
   "metadata": {
    "colab": {
     "base_uri": "https://localhost:8080/"
    },
    "id": "x3TNj40wcUDE",
    "outputId": "1a253072-4350-4621-ae83-12e2bebdc9c0",
    "pycharm": {
     "name": "#%%\n"
    }
   },
   "execution_count": 111,
   "outputs": [
    {
     "output_type": "execute_result",
     "data": {
      "text/plain": [
       "SVC(C=1, gamma=0.01)"
      ]
     },
     "metadata": {},
     "execution_count": 111
    }
   ]
  },
  {
   "cell_type": "code",
   "source": [
    "#accuracy\n",
    "predictions_rbf = model_rbf.predict(X_test)\n",
    "print(accuracy_score(y_test, predictions_rbf))"
   ],
   "metadata": {
    "colab": {
     "base_uri": "https://localhost:8080/"
    },
    "id": "fUu_el0w2Upy",
    "outputId": "ca44f81a-660a-44c0-e18a-3558d5053537",
    "pycharm": {
     "name": "#%%\n"
    }
   },
   "execution_count": 112,
   "outputs": [
    {
     "output_type": "stream",
     "name": "stdout",
     "text": [
      "0.9210526315789473\n"
     ]
    }
   ]
  },
  {
   "cell_type": "code",
   "source": [
    "# by using 5-fold cross validation, again report accuracies from each fold\n",
    "# and the mean accuracy after taking the mean on five accuracies.\n",
    "scores_rbf = cross_val_score(model_rbf, X_test, y_test, cv=5)\n",
    "\n",
    "print('5-fold cross validation score\\n{}'.format(scores_rbf))\n",
    "print('mean of cross validation score\\n{:.3f}'.format(scores_rbf.mean()))"
   ],
   "metadata": {
    "colab": {
     "base_uri": "https://localhost:8080/"
    },
    "id": "KVjO2L5x2UnV",
    "outputId": "c4e4b159-0724-4d99-cc5b-3ac7e2028344",
    "pycharm": {
     "name": "#%%\n"
    }
   },
   "execution_count": 113,
   "outputs": [
    {
     "output_type": "stream",
     "name": "stdout",
     "text": [
      "5-fold cross validation score\n",
      "[0.75       0.75       0.75       0.71428571 0.85714286]\n",
      "mean of cross validation score\n",
      "0.764\n",
      "5-fold cross validation score\n",
      "[0.75       0.75       0.75       0.71428571 0.85714286]\n",
      "mean of cross validation score\n",
      "0.764\n"
     ]
    }
   ]
  },
  {
   "cell_type": "markdown",
   "source": [
    "### Hyperparemter tuning by using Grid Search (i.e., from sklearn.model_selection import GridSearchCV)\n",
    "- Parameter search space must include three kernels (['rbf', 'poly', 'sigmoid'], C ([0.1,1, 10, 100]) and gamma ([1,0.1,0.01,0.001]))\n",
    "- Report best parameters and accuracy based on them"
   ],
   "metadata": {
    "id": "8N5w6IS72ru6",
    "pycharm": {
     "name": "#%% md\n"
    }
   }
  },
  {
   "cell_type": "code",
   "source": [
    "from sklearn.model_selection import GridSearchCV\n",
    "\n",
    "# defining parameter range\n",
    "param_grid = {'C': [0.1, 1, 10, 100, 1000],\n",
    "'gamma': [1, 0.1, 0.01, 0.001, 0.0001],\n",
    "'kernel': ['rbf']}\n",
    "grid = GridSearchCV(SVC(), param_grid, refit = True)\n",
    "\n",
    "grid.fit(X_train, y_train)\n"
   ],
   "metadata": {
    "colab": {
     "base_uri": "https://localhost:8080/"
    },
    "id": "_phzumB32Uk0",
    "outputId": "a20438c4-1762-456c-fb84-f6ee55ba4dd8",
    "pycharm": {
     "name": "#%%\n"
    }
   },
   "execution_count": 114,
   "outputs": [
    {
     "output_type": "execute_result",
     "data": {
      "text/plain": [
       "GridSearchCV(estimator=SVC(),\n",
       "             param_grid={'C': [0.1, 1, 10, 100, 1000],\n",
       "                         'gamma': [1, 0.1, 0.01, 0.001, 0.0001],\n",
       "                         'kernel': ['rbf']})"
      ]
     },
     "metadata": {},
     "execution_count": 114
    }
   ]
  },
  {
   "cell_type": "code",
   "source": [
    "sorted(grid.cv_results_.keys())\n"
   ],
   "metadata": {
    "colab": {
     "base_uri": "https://localhost:8080/"
    },
    "id": "67fYDjYfs79Q",
    "outputId": "4404cdf5-c9da-4111-eb65-fddcb4832a74",
    "pycharm": {
     "name": "#%%\n"
    }
   },
   "execution_count": 115,
   "outputs": [
    {
     "output_type": "execute_result",
     "data": {
      "text/plain": [
       "['mean_fit_time',\n",
       " 'mean_score_time',\n",
       " 'mean_test_score',\n",
       " 'param_C',\n",
       " 'param_gamma',\n",
       " 'param_kernel',\n",
       " 'params',\n",
       " 'rank_test_score',\n",
       " 'split0_test_score',\n",
       " 'split1_test_score',\n",
       " 'split2_test_score',\n",
       " 'split3_test_score',\n",
       " 'split4_test_score',\n",
       " 'std_fit_time',\n",
       " 'std_score_time',\n",
       " 'std_test_score']"
      ]
     },
     "metadata": {},
     "execution_count": 115
    }
   ]
  },
  {
   "cell_type": "code",
   "source": [
    "print('Parameter:', grid.best_params_)\n",
    "print('Accuracy: {:.4f}'.format(grid.best_score_))"
   ],
   "metadata": {
    "colab": {
     "base_uri": "https://localhost:8080/"
    },
    "id": "Y3hxM_YAs70r",
    "outputId": "5d1a2171-7030-4ca7-afeb-2636f38c2fa1",
    "pycharm": {
     "name": "#%%\n"
    }
   },
   "execution_count": 116,
   "outputs": [
    {
     "output_type": "stream",
     "name": "stdout",
     "text": [
      "Parameter: {'C': 10, 'gamma': 0.1, 'kernel': 'rbf'}\n",
      "Accuracy: 0.9731\n"
     ]
    }
   ]
  },
  {
   "cell_type": "markdown",
   "source": [
    "### Extend your discussion on why chosen kernel works more effectively than others and whether hyperparmeter tuning helps perfomrance improvement."
   ],
   "metadata": {
    "id": "3aCequME2xf5",
    "pycharm": {
     "name": "#%% md\n"
    }
   }
  },
  {
   "cell_type": "markdown",
   "source": [
    "\n",
    "Hyperparameter tuning using grid search work showed accuracy of 97.31%, while SVM using linear kernel showed 91.8% accuracy, and SVM using RBF kernel showed 76.4% accuracy.\n",
    "\n",
    "\n",
    "Therefore, we can see that hyperparameter tuning helps performance improvement."
   ],
   "metadata": {
    "id": "BMOR1rbu0Wcv",
    "pycharm": {
     "name": "#%% md\n"
    }
   }
  },
  {
   "cell_type": "code",
   "source": [],
   "metadata": {
    "id": "BMWKAufk2ysl",
    "pycharm": {
     "name": "#%%\n"
    }
   },
   "execution_count": 116,
   "outputs": []
  },
  {
   "cell_type": "code",
   "source": [],
   "metadata": {
    "id": "X005ztE92UiD",
    "pycharm": {
     "name": "#%%\n"
    }
   },
   "execution_count": 116,
   "outputs": []
  }
 ]
}